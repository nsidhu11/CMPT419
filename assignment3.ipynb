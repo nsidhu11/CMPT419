{
 "cells": [
  {
   "cell_type": "code",
   "execution_count": 4,
   "metadata": {},
   "outputs": [],
   "source": [
    "import random\n",
    "from datasets import load_dataset\n",
    "import pandas as pd"
   ]
  },
  {
   "cell_type": "code",
   "execution_count": 8,
   "metadata": {},
   "outputs": [
    {
     "data": {
      "text/plain": [
       "['data/train-01997-of-05534-*',\n",
       " 'data/train-02679-of-05534-*',\n",
       " 'data/train-00610-of-05534-*',\n",
       " 'data/train-04882-of-05534-*',\n",
       " 'data/train-05270-of-05534-*']"
      ]
     },
     "execution_count": 8,
     "metadata": {},
     "output_type": "execute_result"
    }
   ],
   "source": [
    "num_files = 5535\n",
    "\n",
    "num_files_to_sample = num_files * 0.001\n",
    "# num_files_to_sample\n",
    "\n",
    "file_numbers = random.sample(range(0,num_files), int(num_files_to_sample))\n",
    "# file_numbers\n",
    "\n",
    "# just a quick reminder of what the number formatting looks like\n",
    "# number = 35\n",
    "# f\"{number:05d}\"\n",
    "\n",
    "pattern = \"data/train-{:05d}-of-05534-*\"\n",
    "file_patterns = [pattern.format(x) for x in file_numbers]\n",
    "file_patterns"
   ]
  },
  {
   "cell_type": "code",
   "execution_count": 9,
   "metadata": {},
   "outputs": [
    {
     "name": "stderr",
     "output_type": "stream",
     "text": [
      "Downloading data: 100%|██████████| 302M/302M [00:26<00:00, 11.3MB/s] \n",
      "Downloading data: 100%|██████████| 290M/290M [00:24<00:00, 11.9MB/s] \n",
      "Downloading data: 100%|██████████| 296M/296M [00:51<00:00, 5.72MB/s] \n",
      "Downloading data: 100%|██████████| 293M/293M [00:52<00:00, 5.62MB/s] \n"
     ]
    },
    {
     "data": {
      "application/vnd.jupyter.widget-view+json": {
       "model_id": "e861fab8c51c46d9b82164753218fe1e",
       "version_major": 2,
       "version_minor": 0
      },
      "text/plain": [
       "Generating train split:   0%|          | 0/968000015 [00:00<?, ? examples/s]"
      ]
     },
     "metadata": {},
     "output_type": "display_data"
    }
   ],
   "source": [
    "\n",
    "data_sample = load_dataset(\n",
    "    \"tiiuae/falcon-refinedweb\",\n",
    "    data_files=file_patterns, ignore_verifications=True\n",
    ")\n",
    "df = pd.DataFrame(data_sample[\"train\"])\n",
    "\n"
   ]
  },
  {
   "cell_type": "code",
   "execution_count": 14,
   "metadata": {},
   "outputs": [],
   "source": [
    "#%%\n",
    "name = '-'.join([str(x) for x in file_numbers])\n",
    "df.to_parquet(f'refinedweb_{name}.parquet')"
   ]
  },
  {
   "cell_type": "code",
   "execution_count": 15,
   "metadata": {},
   "outputs": [
    {
     "data": {
      "text/plain": [
       "'1997-2679-610-4882-5270'"
      ]
     },
     "execution_count": 15,
     "metadata": {},
     "output_type": "execute_result"
    }
   ],
   "source": [
    "name"
   ]
  },
  {
   "cell_type": "code",
   "execution_count": 16,
   "metadata": {},
   "outputs": [],
   "source": [
    "# To use saved file, specify the name here\n",
    "name = '1997-2679-610-4882-5270'\n",
    "# name = 'refinedweb_4453-1982-3699-5149-508-282-1127-5210-4203-2213-2152-1842-5375-2118-1363-3607-4652-3485-1715-1719-1214-1952'\n",
    "path = f'refinedweb_{name}.parquet'\n",
    "df = pd.read_parquet(path) # refinedweb_1997-2679-610-4882-5270.parquet"
   ]
  },
  {
   "cell_type": "code",
   "execution_count": 17,
   "metadata": {},
   "outputs": [
    {
     "data": {
      "text/html": [
       "<div>\n",
       "<style scoped>\n",
       "    .dataframe tbody tr th:only-of-type {\n",
       "        vertical-align: middle;\n",
       "    }\n",
       "\n",
       "    .dataframe tbody tr th {\n",
       "        vertical-align: top;\n",
       "    }\n",
       "\n",
       "    .dataframe thead th {\n",
       "        text-align: right;\n",
       "    }\n",
       "</style>\n",
       "<table border=\"1\" class=\"dataframe\">\n",
       "  <thead>\n",
       "    <tr style=\"text-align: right;\">\n",
       "      <th></th>\n",
       "      <th>content</th>\n",
       "      <th>url</th>\n",
       "      <th>timestamp</th>\n",
       "      <th>dump</th>\n",
       "      <th>segment</th>\n",
       "      <th>image_urls</th>\n",
       "    </tr>\n",
       "  </thead>\n",
       "  <tbody>\n",
       "    <tr>\n",
       "      <th>0</th>\n",
       "      <td>Biolustre Renew Daily Conditioning Sealant is ...</td>\n",
       "      <td>http://www.naturallycurly.com/search/brand/nam...</td>\n",
       "      <td>2016-12-02 22:34:18</td>\n",
       "      <td>CC-MAIN-2016-50</td>\n",
       "      <td>1480698540698.78</td>\n",
       "      <td>[]</td>\n",
       "    </tr>\n",
       "    <tr>\n",
       "      <th>1</th>\n",
       "      <td>Give a Gift Membership\\nWith this gift of natu...</td>\n",
       "      <td>http://www.nature.org/ourinitiatives/regions/n...</td>\n",
       "      <td>2016-12-02 22:20:47</td>\n",
       "      <td>CC-MAIN-2016-50</td>\n",
       "      <td>1480698540698.78</td>\n",
       "      <td>[[/cs/groups/webcontent/@web/documents/media/g...</td>\n",
       "    </tr>\n",
       "    <tr>\n",
       "      <th>2</th>\n",
       "      <td>As noted in the description, my book chronicle...</td>\n",
       "      <td>http://www.navigatinglifesroadways.com/?page_i...</td>\n",
       "      <td>2016-12-02 22:13:04</td>\n",
       "      <td>CC-MAIN-2016-50</td>\n",
       "      <td>1480698540698.78</td>\n",
       "      <td>[]</td>\n",
       "    </tr>\n",
       "    <tr>\n",
       "      <th>3</th>\n",
       "      <td>Bulls @ Pacers\\nthe bulls were a very competit...</td>\n",
       "      <td>http://www.nbadraft.net/forum/bulls-pacers</td>\n",
       "      <td>2016-12-02 22:49:35</td>\n",
       "      <td>CC-MAIN-2016-50</td>\n",
       "      <td>1480698540698.78</td>\n",
       "      <td>[]</td>\n",
       "    </tr>\n",
       "    <tr>\n",
       "      <th>4</th>\n",
       "      <td>LAKE FOREST, Calif. — After years of ministeri...</td>\n",
       "      <td>http://www.nbcnews.com/id/10268413</td>\n",
       "      <td>2016-12-02 22:32:49</td>\n",
       "      <td>CC-MAIN-2016-50</td>\n",
       "      <td>1480698540698.78</td>\n",
       "      <td>[[http://media2.s-nbcnews.com/j/msnbc/Componen...</td>\n",
       "    </tr>\n",
       "    <tr>\n",
       "      <th>...</th>\n",
       "      <td>...</td>\n",
       "      <td>...</td>\n",
       "      <td>...</td>\n",
       "      <td>...</td>\n",
       "      <td>...</td>\n",
       "      <td>...</td>\n",
       "    </tr>\n",
       "    <tr>\n",
       "      <th>874588</th>\n",
       "      <td>Joachim Low cast aside concerns about Germany'...</td>\n",
       "      <td>https://www.skysports.com/football/news/12023/...</td>\n",
       "      <td>2021-07-24 05:08:16</td>\n",
       "      <td>CC-MAIN-2021-31</td>\n",
       "      <td>1627046150129.50</td>\n",
       "      <td>[[https://e0.365dm.com/21/06/768x432/skysports...</td>\n",
       "    </tr>\n",
       "    <tr>\n",
       "      <th>874589</th>\n",
       "      <td>At 10:30pm on the 30 of August I boarded QF74 ...</td>\n",
       "      <td>https://www.sleepingwithmyeyesopen.com/2010/09...</td>\n",
       "      <td>2021-07-24 03:27:41</td>\n",
       "      <td>CC-MAIN-2021-31</td>\n",
       "      <td>1627046150129.50</td>\n",
       "      <td>[]</td>\n",
       "    </tr>\n",
       "    <tr>\n",
       "      <th>874590</th>\n",
       "      <td>展开查看详情\\n1. Today’s Papers • Chord: A Scalable ...</td>\n",
       "      <td>https://www.slidestalk.com/u3808/ChordTapestry16</td>\n",
       "      <td>2021-07-24 04:09:20</td>\n",
       "      <td>CC-MAIN-2021-31</td>\n",
       "      <td>1627046150129.50</td>\n",
       "      <td>[]</td>\n",
       "    </tr>\n",
       "    <tr>\n",
       "      <th>874591</th>\n",
       "      <td>A Year of Local Music: Wes Johnson of Archive ...</td>\n",
       "      <td>https://www.slugmag.com/music/interviews/music...</td>\n",
       "      <td>2021-07-24 03:31:10</td>\n",
       "      <td>CC-MAIN-2021-31</td>\n",
       "      <td>1627046150129.50</td>\n",
       "      <td>[]</td>\n",
       "    </tr>\n",
       "    <tr>\n",
       "      <th>874592</th>\n",
       "      <td>JavaScript seems to be disabled in your browse...</td>\n",
       "      <td>https://www.smallcab.net/seimitsu-5x6x-stock-h...</td>\n",
       "      <td>2021-07-24 05:01:17</td>\n",
       "      <td>CC-MAIN-2021-31</td>\n",
       "      <td>1627046150129.50</td>\n",
       "      <td>[]</td>\n",
       "    </tr>\n",
       "  </tbody>\n",
       "</table>\n",
       "<p>874593 rows × 6 columns</p>\n",
       "</div>"
      ],
      "text/plain": [
       "                                                  content  \\\n",
       "0       Biolustre Renew Daily Conditioning Sealant is ...   \n",
       "1       Give a Gift Membership\\nWith this gift of natu...   \n",
       "2       As noted in the description, my book chronicle...   \n",
       "3       Bulls @ Pacers\\nthe bulls were a very competit...   \n",
       "4       LAKE FOREST, Calif. — After years of ministeri...   \n",
       "...                                                   ...   \n",
       "874588  Joachim Low cast aside concerns about Germany'...   \n",
       "874589  At 10:30pm on the 30 of August I boarded QF74 ...   \n",
       "874590  展开查看详情\\n1. Today’s Papers • Chord: A Scalable ...   \n",
       "874591  A Year of Local Music: Wes Johnson of Archive ...   \n",
       "874592  JavaScript seems to be disabled in your browse...   \n",
       "\n",
       "                                                      url           timestamp  \\\n",
       "0       http://www.naturallycurly.com/search/brand/nam... 2016-12-02 22:34:18   \n",
       "1       http://www.nature.org/ourinitiatives/regions/n... 2016-12-02 22:20:47   \n",
       "2       http://www.navigatinglifesroadways.com/?page_i... 2016-12-02 22:13:04   \n",
       "3              http://www.nbadraft.net/forum/bulls-pacers 2016-12-02 22:49:35   \n",
       "4                      http://www.nbcnews.com/id/10268413 2016-12-02 22:32:49   \n",
       "...                                                   ...                 ...   \n",
       "874588  https://www.skysports.com/football/news/12023/... 2021-07-24 05:08:16   \n",
       "874589  https://www.sleepingwithmyeyesopen.com/2010/09... 2021-07-24 03:27:41   \n",
       "874590   https://www.slidestalk.com/u3808/ChordTapestry16 2021-07-24 04:09:20   \n",
       "874591  https://www.slugmag.com/music/interviews/music... 2021-07-24 03:31:10   \n",
       "874592  https://www.smallcab.net/seimitsu-5x6x-stock-h... 2021-07-24 05:01:17   \n",
       "\n",
       "                   dump           segment  \\\n",
       "0       CC-MAIN-2016-50  1480698540698.78   \n",
       "1       CC-MAIN-2016-50  1480698540698.78   \n",
       "2       CC-MAIN-2016-50  1480698540698.78   \n",
       "3       CC-MAIN-2016-50  1480698540698.78   \n",
       "4       CC-MAIN-2016-50  1480698540698.78   \n",
       "...                 ...               ...   \n",
       "874588  CC-MAIN-2021-31  1627046150129.50   \n",
       "874589  CC-MAIN-2021-31  1627046150129.50   \n",
       "874590  CC-MAIN-2021-31  1627046150129.50   \n",
       "874591  CC-MAIN-2021-31  1627046150129.50   \n",
       "874592  CC-MAIN-2021-31  1627046150129.50   \n",
       "\n",
       "                                               image_urls  \n",
       "0                                                      []  \n",
       "1       [[/cs/groups/webcontent/@web/documents/media/g...  \n",
       "2                                                      []  \n",
       "3                                                      []  \n",
       "4       [[http://media2.s-nbcnews.com/j/msnbc/Componen...  \n",
       "...                                                   ...  \n",
       "874588  [[https://e0.365dm.com/21/06/768x432/skysports...  \n",
       "874589                                                 []  \n",
       "874590                                                 []  \n",
       "874591                                                 []  \n",
       "874592                                                 []  \n",
       "\n",
       "[874593 rows x 6 columns]"
      ]
     },
     "execution_count": 17,
     "metadata": {},
     "output_type": "execute_result"
    }
   ],
   "source": [
    "df"
   ]
  },
  {
   "cell_type": "code",
   "execution_count": 19,
   "metadata": {},
   "outputs": [
    {
     "data": {
      "text/plain": [
       "(874593, 41.980592)"
      ]
     },
     "execution_count": 19,
     "metadata": {},
     "output_type": "execute_result"
    }
   ],
   "source": [
    "len(df), df.memory_usage(index=True).sum() * 1e-6"
   ]
  },
  {
   "cell_type": "code",
   "execution_count": 20,
   "metadata": {},
   "outputs": [],
   "source": [
    "import tldextract\n",
    "# === GET DOMAIN AND SUBDOMAIN ===\n",
    "domains = []\n",
    "subdomains = []\n",
    "full = []\n",
    "for url in df.url.values:\n",
    "    extract = tldextract.extract(url)\n",
    "    domains.append(extract.domain + '.' + extract.suffix)\n",
    "    subdomains.append(extract.subdomain)\n",
    "    full.append(extract.subdomain + '.' + extract.domain + '.' + extract.suffix)\n",
    "df[\"domain\"] = domains\n",
    "df[\"subdomain\"] = subdomains\n",
    "df[\"full\"] = full\n",
    "df['totaldocuments'] = 1"
   ]
  },
  {
   "cell_type": "code",
   "execution_count": 21,
   "metadata": {},
   "outputs": [],
   "source": [
    "#%%\n",
    "# === COUNT WORDS === \n",
    "df['totalwords'] = [len(x.split()) for x in df['content'].tolist()]"
   ]
  },
  {
   "cell_type": "code",
   "execution_count": 22,
   "metadata": {},
   "outputs": [
    {
     "data": {
      "text/html": [
       "<div>\n",
       "<style scoped>\n",
       "    .dataframe tbody tr th:only-of-type {\n",
       "        vertical-align: middle;\n",
       "    }\n",
       "\n",
       "    .dataframe tbody tr th {\n",
       "        vertical-align: top;\n",
       "    }\n",
       "\n",
       "    .dataframe thead th {\n",
       "        text-align: right;\n",
       "    }\n",
       "</style>\n",
       "<table border=\"1\" class=\"dataframe\">\n",
       "  <thead>\n",
       "    <tr style=\"text-align: right;\">\n",
       "      <th></th>\n",
       "      <th>timestamp</th>\n",
       "      <th>totaldocuments</th>\n",
       "      <th>totalwords</th>\n",
       "    </tr>\n",
       "  </thead>\n",
       "  <tbody>\n",
       "    <tr>\n",
       "      <th>count</th>\n",
       "      <td>874593</td>\n",
       "      <td>874593.0</td>\n",
       "      <td>874593.000000</td>\n",
       "    </tr>\n",
       "    <tr>\n",
       "      <th>mean</th>\n",
       "      <td>2018-02-15 18:05:20.751994624</td>\n",
       "      <td>1.0</td>\n",
       "      <td>422.783622</td>\n",
       "    </tr>\n",
       "    <tr>\n",
       "      <th>min</th>\n",
       "      <td>2014-03-07 08:07:10</td>\n",
       "      <td>1.0</td>\n",
       "      <td>0.000000</td>\n",
       "    </tr>\n",
       "    <tr>\n",
       "      <th>25%</th>\n",
       "      <td>2016-10-21 00:58:00</td>\n",
       "      <td>1.0</td>\n",
       "      <td>99.000000</td>\n",
       "    </tr>\n",
       "    <tr>\n",
       "      <th>50%</th>\n",
       "      <td>2018-01-16 10:04:55</td>\n",
       "      <td>1.0</td>\n",
       "      <td>209.000000</td>\n",
       "    </tr>\n",
       "    <tr>\n",
       "      <th>75%</th>\n",
       "      <td>2019-11-12 08:12:29</td>\n",
       "      <td>1.0</td>\n",
       "      <td>459.000000</td>\n",
       "    </tr>\n",
       "    <tr>\n",
       "      <th>max</th>\n",
       "      <td>2022-05-16 10:29:11</td>\n",
       "      <td>1.0</td>\n",
       "      <td>96563.000000</td>\n",
       "    </tr>\n",
       "    <tr>\n",
       "      <th>std</th>\n",
       "      <td>NaN</td>\n",
       "      <td>0.0</td>\n",
       "      <td>1041.974827</td>\n",
       "    </tr>\n",
       "  </tbody>\n",
       "</table>\n",
       "</div>"
      ],
      "text/plain": [
       "                           timestamp  totaldocuments     totalwords\n",
       "count                         874593        874593.0  874593.000000\n",
       "mean   2018-02-15 18:05:20.751994624             1.0     422.783622\n",
       "min              2014-03-07 08:07:10             1.0       0.000000\n",
       "25%              2016-10-21 00:58:00             1.0      99.000000\n",
       "50%              2018-01-16 10:04:55             1.0     209.000000\n",
       "75%              2019-11-12 08:12:29             1.0     459.000000\n",
       "max              2022-05-16 10:29:11             1.0   96563.000000\n",
       "std                              NaN             0.0    1041.974827"
      ]
     },
     "execution_count": 22,
     "metadata": {},
     "output_type": "execute_result"
    }
   ],
   "source": [
    "df.describe()"
   ]
  }
 ],
 "metadata": {
  "kernelspec": {
   "display_name": "ai",
   "language": "python",
   "name": "python3"
  },
  "language_info": {
   "codemirror_mode": {
    "name": "ipython",
    "version": 3
   },
   "file_extension": ".py",
   "mimetype": "text/x-python",
   "name": "python",
   "nbconvert_exporter": "python",
   "pygments_lexer": "ipython3",
   "version": "3.9.18"
  }
 },
 "nbformat": 4,
 "nbformat_minor": 2
}
