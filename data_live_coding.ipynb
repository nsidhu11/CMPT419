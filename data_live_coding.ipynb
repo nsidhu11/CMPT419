{
 "cells": [
  {
   "cell_type": "markdown",
   "metadata": {},
   "source": [
    "# About this notebook\n",
    "\n",
    "This contains example code for Assignment 3 that we talked through together on March 6 class."
   ]
  },
  {
   "cell_type": "code",
   "execution_count": 1,
   "metadata": {},
   "outputs": [],
   "source": [
    "import random\n",
    "from datasets import load_dataset\n",
    "import pandas as pd"
   ]
  },
  {
   "cell_type": "code",
   "execution_count": 2,
   "metadata": {},
   "outputs": [
    {
     "data": {
      "text/plain": [
       "5.535"
      ]
     },
     "execution_count": 2,
     "metadata": {},
     "output_type": "execute_result"
    }
   ],
   "source": [
    "num_files = 5535\n",
    "\n",
    "num_files_to_sample = num_files * 0.001\n",
    "num_files_to_sample"
   ]
  },
  {
   "cell_type": "code",
   "execution_count": 3,
   "metadata": {},
   "outputs": [
    {
     "data": {
      "text/plain": [
       "[5405, 4806, 522, 4868, 4767]"
      ]
     },
     "execution_count": 3,
     "metadata": {},
     "output_type": "execute_result"
    }
   ],
   "source": [
    "file_numbers = random.sample(range(0,num_files), int(num_files_to_sample))\n",
    "file_numbers"
   ]
  },
  {
   "cell_type": "code",
   "execution_count": 4,
   "metadata": {},
   "outputs": [
    {
     "data": {
      "text/plain": [
       "'00035'"
      ]
     },
     "execution_count": 4,
     "metadata": {},
     "output_type": "execute_result"
    }
   ],
   "source": [
    "#%%\n",
    "# just a quick reminder of what the number formatting looks like\n",
    "number = 35\n",
    "f\"{number:05d}\""
   ]
  },
  {
   "cell_type": "code",
   "execution_count": 5,
   "metadata": {},
   "outputs": [
    {
     "data": {
      "text/plain": [
       "['data/train-05405-of-05534-*',\n",
       " 'data/train-04806-of-05534-*',\n",
       " 'data/train-00522-of-05534-*',\n",
       " 'data/train-04868-of-05534-*',\n",
       " 'data/train-04767-of-05534-*']"
      ]
     },
     "execution_count": 5,
     "metadata": {},
     "output_type": "execute_result"
    }
   ],
   "source": [
    "#%%\n",
    "pattern = \"data/train-{:05d}-of-05534-*\"\n",
    "file_patterns = [pattern.format(x) for x in file_numbers]\n",
    "file_patterns"
   ]
  },
  {
   "cell_type": "code",
   "execution_count": 6,
   "metadata": {},
   "outputs": [
    {
     "name": "stderr",
     "output_type": "stream",
     "text": [
      "c:\\Users\\nsidh\\anaconda3\\envs\\ai\\lib\\site-packages\\datasets\\load.py:2524: FutureWarning: 'ignore_verifications' was deprecated in favor of 'verification_mode' in version 2.9.1 and will be removed in 3.0.0.\n",
      "You can remove this warning by passing 'verification_mode=no_checks' instead.\n",
      "  warnings.warn(\n",
      "Downloading data: 100%|██████████| 298M/298M [03:08<00:00, 1.58MB/s] \n",
      "Downloading data: 100%|██████████| 294M/294M [01:26<00:00, 3.42MB/s] \n",
      "Downloading data: 100%|██████████| 311M/311M [01:05<00:00, 4.74MB/s] \n",
      "Downloading data: 100%|██████████| 301M/301M [01:25<00:00, 3.52MB/s] \n",
      "Downloading data: 100%|██████████| 303M/303M [01:25<00:00, 3.55MB/s] \n"
     ]
    },
    {
     "data": {
      "application/vnd.jupyter.widget-view+json": {
       "model_id": "3338897a28c64497bf7bb54355b7adb4",
       "version_major": 2,
       "version_minor": 0
      },
      "text/plain": [
       "Generating train split:   0%|          | 0/968000015 [00:00<?, ? examples/s]"
      ]
     },
     "metadata": {},
     "output_type": "display_data"
    }
   ],
   "source": [
    "#%%\n",
    "data_sample = load_dataset(\n",
    "    \"tiiuae/falcon-refinedweb\",\n",
    "    data_files=file_patterns, ignore_verifications=True\n",
    ")\n",
    "df = pd.DataFrame(data_sample[\"train\"])"
   ]
  },
  {
   "cell_type": "code",
   "execution_count": 7,
   "metadata": {},
   "outputs": [],
   "source": [
    "#%%\n",
    "name = '-'.join([str(x) for x in file_numbers])\n",
    "df.to_parquet(f'refinedweb_{name}.parquet')"
   ]
  },
  {
   "cell_type": "code",
   "execution_count": 8,
   "metadata": {},
   "outputs": [
    {
     "data": {
      "text/plain": [
       "'5405-4806-522-4868-4767'"
      ]
     },
     "execution_count": 8,
     "metadata": {},
     "output_type": "execute_result"
    }
   ],
   "source": [
    "name"
   ]
  },
  {
   "cell_type": "code",
   "execution_count": 10,
   "metadata": {},
   "outputs": [],
   "source": [
    "# To use saved file, specify the name here\n",
    "name = '5405-4806-522-4868-4767'\n",
    "# name = 'refinedweb_4453-1982-3699-5149-508-282-1127-5210-4203-2213-2152-1842-5375-2118-1363-3607-4652-3485-1715-1719-1214-1952'\n",
    "path = f'refinedweb_{name}.parquet'\n",
    "df = pd.read_parquet(path)"
   ]
  },
  {
   "cell_type": "code",
   "execution_count": 11,
   "metadata": {},
   "outputs": [
    {
     "data": {
      "text/html": [
       "<div>\n",
       "<style scoped>\n",
       "    .dataframe tbody tr th:only-of-type {\n",
       "        vertical-align: middle;\n",
       "    }\n",
       "\n",
       "    .dataframe tbody tr th {\n",
       "        vertical-align: top;\n",
       "    }\n",
       "\n",
       "    .dataframe thead th {\n",
       "        text-align: right;\n",
       "    }\n",
       "</style>\n",
       "<table border=\"1\" class=\"dataframe\">\n",
       "  <thead>\n",
       "    <tr style=\"text-align: right;\">\n",
       "      <th></th>\n",
       "      <th>content</th>\n",
       "      <th>url</th>\n",
       "      <th>timestamp</th>\n",
       "      <th>dump</th>\n",
       "      <th>segment</th>\n",
       "      <th>image_urls</th>\n",
       "    </tr>\n",
       "  </thead>\n",
       "  <tbody>\n",
       "    <tr>\n",
       "      <th>0</th>\n",
       "      <td>-\\n- Music\\n- Music\\n- Pre Order\\n- New Releas...</td>\n",
       "      <td>http://www.cmdistro.de/Item/In_This_Moment__-_...</td>\n",
       "      <td>2017-03-23 04:20:12</td>\n",
       "      <td>CC-MAIN-2017-13</td>\n",
       "      <td>1490218186774.43</td>\n",
       "      <td>[]</td>\n",
       "    </tr>\n",
       "    <tr>\n",
       "      <th>1</th>\n",
       "      <td>Nearly $2 billion has been wiped off bitcoin’s...</td>\n",
       "      <td>http://www.cnbcafrica.com/news/international/2...</td>\n",
       "      <td>2017-03-23 04:20:09</td>\n",
       "      <td>CC-MAIN-2017-13</td>\n",
       "      <td>1490218186774.43</td>\n",
       "      <td>[[http://d16akly8855cs7.cloudfront.net/wp-cont...</td>\n",
       "    </tr>\n",
       "    <tr>\n",
       "      <th>2</th>\n",
       "      <td>Indianapolis, IN Lawyers for Items Left in Bod...</td>\n",
       "      <td>http://www.cohenandmalad.com/practice-areas/me...</td>\n",
       "      <td>2017-03-23 04:22:58</td>\n",
       "      <td>CC-MAIN-2017-13</td>\n",
       "      <td>1490218186774.43</td>\n",
       "      <td>[]</td>\n",
       "    </tr>\n",
       "    <tr>\n",
       "      <th>3</th>\n",
       "      <td>Page 1 Page 2 Page 3 Page 4 Page 5 Page 6\\nMAL...</td>\n",
       "      <td>http://www.comandosupremo.com/1942.html</td>\n",
       "      <td>2017-03-23 04:18:05</td>\n",
       "      <td>CC-MAIN-2017-13</td>\n",
       "      <td>1490218186774.43</td>\n",
       "      <td>[]</td>\n",
       "    </tr>\n",
       "    <tr>\n",
       "      <th>4</th>\n",
       "      <td>Summary\\nAngelica Jones' grandmother leads her...</td>\n",
       "      <td>http://www.comicextra.com/comic/firestar-1986</td>\n",
       "      <td>2017-03-23 04:20:23</td>\n",
       "      <td>CC-MAIN-2017-13</td>\n",
       "      <td>1490218186774.43</td>\n",
       "      <td>[]</td>\n",
       "    </tr>\n",
       "    <tr>\n",
       "      <th>...</th>\n",
       "      <td>...</td>\n",
       "      <td>...</td>\n",
       "      <td>...</td>\n",
       "      <td>...</td>\n",
       "      <td>...</td>\n",
       "      <td>...</td>\n",
       "    </tr>\n",
       "    <tr>\n",
       "      <th>874586</th>\n",
       "      <td>Case(s): U.S. v. Archer Daniels Midland Co. an...</td>\n",
       "      <td>https://www.justice.gov/atr/case-document/fina...</td>\n",
       "      <td>2016-07-23 19:20:24</td>\n",
       "      <td>CC-MAIN-2016-30</td>\n",
       "      <td>1469257823387.9</td>\n",
       "      <td>[]</td>\n",
       "    </tr>\n",
       "    <tr>\n",
       "      <th>874587</th>\n",
       "      <td>Case(s): U.S. v. Atlas Iron Processors, Inc., ...</td>\n",
       "      <td>https://www.justice.gov/atr/case-document/resp...</td>\n",
       "      <td>2016-07-23 19:39:06</td>\n",
       "      <td>CC-MAIN-2016-30</td>\n",
       "      <td>1469257823387.9</td>\n",
       "      <td>[]</td>\n",
       "    </tr>\n",
       "    <tr>\n",
       "      <th>874588</th>\n",
       "      <td>15-minute drive from downtown, Al Quafil Suit...</td>\n",
       "      <td>https://www.kayak.co.uk/Tabuk-Hotels-Al-Quafil...</td>\n",
       "      <td>2016-07-23 19:16:25</td>\n",
       "      <td>CC-MAIN-2016-30</td>\n",
       "      <td>1469257823387.9</td>\n",
       "      <td>[[/rimg/himg/bb/c0/b7/booking-441584-56081935-...</td>\n",
       "    </tr>\n",
       "    <tr>\n",
       "      <th>874589</th>\n",
       "      <td>The hotel is in Bivio through the Julian Pass,...</td>\n",
       "      <td>https://www.kayak.com/Maloja-Hotels.45705.hote...</td>\n",
       "      <td>2016-07-23 19:15:49</td>\n",
       "      <td>CC-MAIN-2016-30</td>\n",
       "      <td>1469257823387.9</td>\n",
       "      <td>[]</td>\n",
       "    </tr>\n",
       "    <tr>\n",
       "      <th>874590</th>\n",
       "      <td>Update &amp; cookbook lecture and tasting, Oct 18\\...</td>\n",
       "      <td>https://www.kickstarter.com/projects/210918899...</td>\n",
       "      <td>2016-07-23 19:26:42</td>\n",
       "      <td>CC-MAIN-2016-30</td>\n",
       "      <td>1469257823387.9</td>\n",
       "      <td>[[https://ksr-ugc.imgix.net/assets/011/258/166...</td>\n",
       "    </tr>\n",
       "  </tbody>\n",
       "</table>\n",
       "<p>874591 rows × 6 columns</p>\n",
       "</div>"
      ],
      "text/plain": [
       "                                                  content  \\\n",
       "0       -\\n- Music\\n- Music\\n- Pre Order\\n- New Releas...   \n",
       "1       Nearly $2 billion has been wiped off bitcoin’s...   \n",
       "2       Indianapolis, IN Lawyers for Items Left in Bod...   \n",
       "3       Page 1 Page 2 Page 3 Page 4 Page 5 Page 6\\nMAL...   \n",
       "4       Summary\\nAngelica Jones' grandmother leads her...   \n",
       "...                                                   ...   \n",
       "874586  Case(s): U.S. v. Archer Daniels Midland Co. an...   \n",
       "874587  Case(s): U.S. v. Atlas Iron Processors, Inc., ...   \n",
       "874588   15-minute drive from downtown, Al Quafil Suit...   \n",
       "874589  The hotel is in Bivio through the Julian Pass,...   \n",
       "874590  Update & cookbook lecture and tasting, Oct 18\\...   \n",
       "\n",
       "                                                      url           timestamp  \\\n",
       "0       http://www.cmdistro.de/Item/In_This_Moment__-_... 2017-03-23 04:20:12   \n",
       "1       http://www.cnbcafrica.com/news/international/2... 2017-03-23 04:20:09   \n",
       "2       http://www.cohenandmalad.com/practice-areas/me... 2017-03-23 04:22:58   \n",
       "3                 http://www.comandosupremo.com/1942.html 2017-03-23 04:18:05   \n",
       "4           http://www.comicextra.com/comic/firestar-1986 2017-03-23 04:20:23   \n",
       "...                                                   ...                 ...   \n",
       "874586  https://www.justice.gov/atr/case-document/fina... 2016-07-23 19:20:24   \n",
       "874587  https://www.justice.gov/atr/case-document/resp... 2016-07-23 19:39:06   \n",
       "874588  https://www.kayak.co.uk/Tabuk-Hotels-Al-Quafil... 2016-07-23 19:16:25   \n",
       "874589  https://www.kayak.com/Maloja-Hotels.45705.hote... 2016-07-23 19:15:49   \n",
       "874590  https://www.kickstarter.com/projects/210918899... 2016-07-23 19:26:42   \n",
       "\n",
       "                   dump           segment  \\\n",
       "0       CC-MAIN-2017-13  1490218186774.43   \n",
       "1       CC-MAIN-2017-13  1490218186774.43   \n",
       "2       CC-MAIN-2017-13  1490218186774.43   \n",
       "3       CC-MAIN-2017-13  1490218186774.43   \n",
       "4       CC-MAIN-2017-13  1490218186774.43   \n",
       "...                 ...               ...   \n",
       "874586  CC-MAIN-2016-30   1469257823387.9   \n",
       "874587  CC-MAIN-2016-30   1469257823387.9   \n",
       "874588  CC-MAIN-2016-30   1469257823387.9   \n",
       "874589  CC-MAIN-2016-30   1469257823387.9   \n",
       "874590  CC-MAIN-2016-30   1469257823387.9   \n",
       "\n",
       "                                               image_urls  \n",
       "0                                                      []  \n",
       "1       [[http://d16akly8855cs7.cloudfront.net/wp-cont...  \n",
       "2                                                      []  \n",
       "3                                                      []  \n",
       "4                                                      []  \n",
       "...                                                   ...  \n",
       "874586                                                 []  \n",
       "874587                                                 []  \n",
       "874588  [[/rimg/himg/bb/c0/b7/booking-441584-56081935-...  \n",
       "874589                                                 []  \n",
       "874590  [[https://ksr-ugc.imgix.net/assets/011/258/166...  \n",
       "\n",
       "[874591 rows x 6 columns]"
      ]
     },
     "execution_count": 11,
     "metadata": {},
     "output_type": "execute_result"
    }
   ],
   "source": [
    "df"
   ]
  },
  {
   "cell_type": "code",
   "execution_count": 12,
   "metadata": {},
   "outputs": [
    {
     "data": {
      "text/plain": [
       "(874591, 41.980495999999995)"
      ]
     },
     "execution_count": 12,
     "metadata": {},
     "output_type": "execute_result"
    }
   ],
   "source": [
    "len(df), df.memory_usage(index=True).sum() * 1e-6"
   ]
  },
  {
   "cell_type": "code",
   "execution_count": 14,
   "metadata": {},
   "outputs": [],
   "source": [
    "import tldextract"
   ]
  },
  {
   "cell_type": "code",
   "execution_count": 15,
   "metadata": {},
   "outputs": [],
   "source": [
    "# === GET DOMAIN AND SUBDOMAIN ===\n",
    "domains = []\n",
    "subdomains = []\n",
    "full = []\n",
    "for url in df.url.values:\n",
    "    extract = tldextract.extract(url)\n",
    "    domains.append(extract.domain + '.' + extract.suffix)\n",
    "    subdomains.append(extract.subdomain)\n",
    "    full.append(extract.subdomain + '.' + extract.domain + '.' + extract.suffix)\n",
    "df[\"domain\"] = domains\n",
    "df[\"subdomain\"] = subdomains\n",
    "df[\"full\"] = full\n",
    "df['totaldocuments'] = 1"
   ]
  },
  {
   "cell_type": "code",
   "execution_count": 16,
   "metadata": {},
   "outputs": [],
   "source": [
    "#%%\n",
    "# === COUNT WORDS === \n",
    "df['totalwords'] = [len(x.split()) for x in df['content'].tolist()]"
   ]
  }
 ],
 "metadata": {
  "kernelspec": {
   "display_name": "Python 3",
   "language": "python",
   "name": "python3"
  },
  "language_info": {
   "codemirror_mode": {
    "name": "ipython",
    "version": 3
   },
   "file_extension": ".py",
   "mimetype": "text/x-python",
   "name": "python",
   "nbconvert_exporter": "python",
   "pygments_lexer": "ipython3",
   "version": "3.9.18"
  }
 },
 "nbformat": 4,
 "nbformat_minor": 2
}
