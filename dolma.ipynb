{
 "cells": [
  {
   "cell_type": "code",
   "execution_count": 6,
   "metadata": {},
   "outputs": [],
   "source": [
    "import random\n",
    "import os\n",
    "from datasets import load_dataset\n",
    "import pandas as pd"
   ]
  },
  {
   "cell_type": "code",
   "execution_count": 9,
   "metadata": {},
   "outputs": [
    {
     "name": "stderr",
     "output_type": "stream",
     "text": [
      "c:\\Users\\nsidh\\anaconda3\\envs\\ai\\lib\\site-packages\\datasets\\load.py:1461: FutureWarning: The repository for allenai/dolma contains custom code which must be executed to correctly load the dataset. You can inspect the repository content at https://hf.co/datasets/allenai/dolma\n",
      "You can avoid this message in future by passing the argument `trust_remote_code=True`.\n",
      "Passing `trust_remote_code=True` will be mandatory to load this dataset from the next major release of `datasets`.\n",
      "  warnings.warn(\n"
     ]
    },
    {
     "ename": "ValueError",
     "evalue": "Cannot name a custom BuilderConfig the same as an available BuilderConfig. Change the name. Available BuilderConfigs: ['v1', 'v1_5', 'v1_5-sample', 'v1_6', 'v1_6-sample']",
     "output_type": "error",
     "traceback": [
      "\u001b[1;31m---------------------------------------------------------------------------\u001b[0m",
      "\u001b[1;31mValueError\u001b[0m                                Traceback (most recent call last)",
      "Cell \u001b[1;32mIn[9], line 6\u001b[0m\n\u001b[0;32m      4\u001b[0m \u001b[38;5;66;03m# Load the Dolma dataset (smaller sample)\u001b[39;00m\n\u001b[0;32m      5\u001b[0m dataset_name \u001b[38;5;241m=\u001b[39m \u001b[38;5;124m\"\u001b[39m\u001b[38;5;124mallenai/dolma\u001b[39m\u001b[38;5;124m\"\u001b[39m\n\u001b[1;32m----> 6\u001b[0m dolma_sample \u001b[38;5;241m=\u001b[39m \u001b[43mload_dataset\u001b[49m\u001b[43m(\u001b[49m\u001b[43mdataset_name\u001b[49m\u001b[43m,\u001b[49m\u001b[43m \u001b[49m\u001b[43mversion\u001b[49m\u001b[43m \u001b[49m\u001b[38;5;241;43m=\u001b[39;49m\u001b[43m \u001b[49m\u001b[38;5;124;43m\"\u001b[39;49m\u001b[38;5;124;43msample\u001b[39;49m\u001b[38;5;124;43m\"\u001b[39;49m\u001b[43m)\u001b[49m\n",
      "File \u001b[1;32mc:\\Users\\nsidh\\anaconda3\\envs\\ai\\lib\\site-packages\\datasets\\load.py:2556\u001b[0m, in \u001b[0;36mload_dataset\u001b[1;34m(path, name, data_dir, data_files, split, cache_dir, features, download_config, download_mode, verification_mode, ignore_verifications, keep_in_memory, save_infos, revision, token, use_auth_token, task, streaming, num_proc, storage_options, trust_remote_code, **config_kwargs)\u001b[0m\n\u001b[0;32m   2551\u001b[0m verification_mode \u001b[38;5;241m=\u001b[39m VerificationMode(\n\u001b[0;32m   2552\u001b[0m     (verification_mode \u001b[38;5;129;01mor\u001b[39;00m VerificationMode\u001b[38;5;241m.\u001b[39mBASIC_CHECKS) \u001b[38;5;28;01mif\u001b[39;00m \u001b[38;5;129;01mnot\u001b[39;00m save_infos \u001b[38;5;28;01melse\u001b[39;00m VerificationMode\u001b[38;5;241m.\u001b[39mALL_CHECKS\n\u001b[0;32m   2553\u001b[0m )\n\u001b[0;32m   2555\u001b[0m \u001b[38;5;66;03m# Create a dataset builder\u001b[39;00m\n\u001b[1;32m-> 2556\u001b[0m builder_instance \u001b[38;5;241m=\u001b[39m load_dataset_builder(\n\u001b[0;32m   2557\u001b[0m     path\u001b[38;5;241m=\u001b[39mpath,\n\u001b[0;32m   2558\u001b[0m     name\u001b[38;5;241m=\u001b[39mname,\n\u001b[0;32m   2559\u001b[0m     data_dir\u001b[38;5;241m=\u001b[39mdata_dir,\n\u001b[0;32m   2560\u001b[0m     data_files\u001b[38;5;241m=\u001b[39mdata_files,\n\u001b[0;32m   2561\u001b[0m     cache_dir\u001b[38;5;241m=\u001b[39mcache_dir,\n\u001b[0;32m   2562\u001b[0m     features\u001b[38;5;241m=\u001b[39mfeatures,\n\u001b[0;32m   2563\u001b[0m     download_config\u001b[38;5;241m=\u001b[39mdownload_config,\n\u001b[0;32m   2564\u001b[0m     download_mode\u001b[38;5;241m=\u001b[39mdownload_mode,\n\u001b[0;32m   2565\u001b[0m     revision\u001b[38;5;241m=\u001b[39mrevision,\n\u001b[0;32m   2566\u001b[0m     token\u001b[38;5;241m=\u001b[39mtoken,\n\u001b[0;32m   2567\u001b[0m     storage_options\u001b[38;5;241m=\u001b[39mstorage_options,\n\u001b[0;32m   2568\u001b[0m     trust_remote_code\u001b[38;5;241m=\u001b[39mtrust_remote_code,\n\u001b[0;32m   2569\u001b[0m     _require_default_config_name\u001b[38;5;241m=\u001b[39mname \u001b[38;5;129;01mis\u001b[39;00m \u001b[38;5;28;01mNone\u001b[39;00m,\n\u001b[0;32m   2570\u001b[0m     \u001b[38;5;241m*\u001b[39m\u001b[38;5;241m*\u001b[39mconfig_kwargs,\n\u001b[0;32m   2571\u001b[0m )\n\u001b[0;32m   2573\u001b[0m \u001b[38;5;66;03m# Return iterable dataset in case of streaming\u001b[39;00m\n\u001b[0;32m   2574\u001b[0m \u001b[38;5;28;01mif\u001b[39;00m streaming:\n",
      "File \u001b[1;32mc:\\Users\\nsidh\\anaconda3\\envs\\ai\\lib\\site-packages\\datasets\\load.py:2265\u001b[0m, in \u001b[0;36mload_dataset_builder\u001b[1;34m(path, name, data_dir, data_files, cache_dir, features, download_config, download_mode, revision, token, use_auth_token, storage_options, trust_remote_code, _require_default_config_name, **config_kwargs)\u001b[0m\n\u001b[0;32m   2263\u001b[0m builder_cls \u001b[38;5;241m=\u001b[39m get_dataset_builder_class(dataset_module, dataset_name\u001b[38;5;241m=\u001b[39mdataset_name)\n\u001b[0;32m   2264\u001b[0m \u001b[38;5;66;03m# Instantiate the dataset builder\u001b[39;00m\n\u001b[1;32m-> 2265\u001b[0m builder_instance: DatasetBuilder \u001b[38;5;241m=\u001b[39m builder_cls(\n\u001b[0;32m   2266\u001b[0m     cache_dir\u001b[38;5;241m=\u001b[39mcache_dir,\n\u001b[0;32m   2267\u001b[0m     dataset_name\u001b[38;5;241m=\u001b[39mdataset_name,\n\u001b[0;32m   2268\u001b[0m     config_name\u001b[38;5;241m=\u001b[39mconfig_name,\n\u001b[0;32m   2269\u001b[0m     data_dir\u001b[38;5;241m=\u001b[39mdata_dir,\n\u001b[0;32m   2270\u001b[0m     data_files\u001b[38;5;241m=\u001b[39mdata_files,\n\u001b[0;32m   2271\u001b[0m     \u001b[38;5;28mhash\u001b[39m\u001b[38;5;241m=\u001b[39mdataset_module\u001b[38;5;241m.\u001b[39mhash,\n\u001b[0;32m   2272\u001b[0m     info\u001b[38;5;241m=\u001b[39minfo,\n\u001b[0;32m   2273\u001b[0m     features\u001b[38;5;241m=\u001b[39mfeatures,\n\u001b[0;32m   2274\u001b[0m     token\u001b[38;5;241m=\u001b[39mtoken,\n\u001b[0;32m   2275\u001b[0m     storage_options\u001b[38;5;241m=\u001b[39mstorage_options,\n\u001b[0;32m   2276\u001b[0m     \u001b[38;5;241m*\u001b[39m\u001b[38;5;241m*\u001b[39mbuilder_kwargs,\n\u001b[0;32m   2277\u001b[0m     \u001b[38;5;241m*\u001b[39m\u001b[38;5;241m*\u001b[39mconfig_kwargs,\n\u001b[0;32m   2278\u001b[0m )\n\u001b[0;32m   2279\u001b[0m builder_instance\u001b[38;5;241m.\u001b[39m_use_legacy_cache_dir_if_possible(dataset_module)\n\u001b[0;32m   2281\u001b[0m \u001b[38;5;28;01mreturn\u001b[39;00m builder_instance\n",
      "File \u001b[1;32mc:\\Users\\nsidh\\anaconda3\\envs\\ai\\lib\\site-packages\\datasets\\builder.py:371\u001b[0m, in \u001b[0;36mDatasetBuilder.__init__\u001b[1;34m(self, cache_dir, dataset_name, config_name, hash, base_path, info, features, token, use_auth_token, repo_id, data_files, data_dir, storage_options, writer_batch_size, name, **config_kwargs)\u001b[0m\n\u001b[0;32m    369\u001b[0m \u001b[38;5;28;01mif\u001b[39;00m data_dir \u001b[38;5;129;01mis\u001b[39;00m \u001b[38;5;129;01mnot\u001b[39;00m \u001b[38;5;28;01mNone\u001b[39;00m:\n\u001b[0;32m    370\u001b[0m     config_kwargs[\u001b[38;5;124m\"\u001b[39m\u001b[38;5;124mdata_dir\u001b[39m\u001b[38;5;124m\"\u001b[39m] \u001b[38;5;241m=\u001b[39m data_dir\n\u001b[1;32m--> 371\u001b[0m \u001b[38;5;28mself\u001b[39m\u001b[38;5;241m.\u001b[39mconfig, \u001b[38;5;28mself\u001b[39m\u001b[38;5;241m.\u001b[39mconfig_id \u001b[38;5;241m=\u001b[39m \u001b[38;5;28mself\u001b[39m\u001b[38;5;241m.\u001b[39m_create_builder_config(\n\u001b[0;32m    372\u001b[0m     config_name\u001b[38;5;241m=\u001b[39mconfig_name,\n\u001b[0;32m    373\u001b[0m     custom_features\u001b[38;5;241m=\u001b[39mfeatures,\n\u001b[0;32m    374\u001b[0m     \u001b[38;5;241m*\u001b[39m\u001b[38;5;241m*\u001b[39mconfig_kwargs,\n\u001b[0;32m    375\u001b[0m )\n\u001b[0;32m    377\u001b[0m \u001b[38;5;66;03m# prepare info: DatasetInfo are a standardized dataclass across all datasets\u001b[39;00m\n\u001b[0;32m    378\u001b[0m \u001b[38;5;66;03m# Prefill datasetinfo\u001b[39;00m\n\u001b[0;32m    379\u001b[0m \u001b[38;5;28;01mif\u001b[39;00m info \u001b[38;5;129;01mis\u001b[39;00m \u001b[38;5;28;01mNone\u001b[39;00m:\n\u001b[0;32m    380\u001b[0m     \u001b[38;5;66;03m# TODO FOR PACKAGED MODULES IT IMPORTS DATA FROM src/packaged_modules which doesn't make sense\u001b[39;00m\n",
      "File \u001b[1;32mc:\\Users\\nsidh\\anaconda3\\envs\\ai\\lib\\site-packages\\datasets\\builder.py:638\u001b[0m, in \u001b[0;36mDatasetBuilder._create_builder_config\u001b[1;34m(self, config_name, custom_features, **config_kwargs)\u001b[0m\n\u001b[0;32m    633\u001b[0m \u001b[38;5;28;01melse\u001b[39;00m:\n\u001b[0;32m    634\u001b[0m     \u001b[38;5;28;01mif\u001b[39;00m (\n\u001b[0;32m    635\u001b[0m         builder_config\u001b[38;5;241m.\u001b[39mname \u001b[38;5;129;01min\u001b[39;00m \u001b[38;5;28mself\u001b[39m\u001b[38;5;241m.\u001b[39mbuilder_configs\n\u001b[0;32m    636\u001b[0m         \u001b[38;5;129;01mand\u001b[39;00m builder_config \u001b[38;5;241m!=\u001b[39m \u001b[38;5;28mself\u001b[39m\u001b[38;5;241m.\u001b[39mbuilder_configs[builder_config\u001b[38;5;241m.\u001b[39mname]\n\u001b[0;32m    637\u001b[0m     ):\n\u001b[1;32m--> 638\u001b[0m         \u001b[38;5;28;01mraise\u001b[39;00m \u001b[38;5;167;01mValueError\u001b[39;00m(\n\u001b[0;32m    639\u001b[0m             \u001b[38;5;124m\"\u001b[39m\u001b[38;5;124mCannot name a custom BuilderConfig the same as an available \u001b[39m\u001b[38;5;124m\"\u001b[39m\n\u001b[0;32m    640\u001b[0m             \u001b[38;5;124mf\u001b[39m\u001b[38;5;124m\"\u001b[39m\u001b[38;5;124mBuilderConfig. Change the name. Available BuilderConfigs: \u001b[39m\u001b[38;5;132;01m{\u001b[39;00m\u001b[38;5;28mlist\u001b[39m(\u001b[38;5;28mself\u001b[39m\u001b[38;5;241m.\u001b[39mbuilder_configs\u001b[38;5;241m.\u001b[39mkeys())\u001b[38;5;132;01m}\u001b[39;00m\u001b[38;5;124m\"\u001b[39m\n\u001b[0;32m    641\u001b[0m         )\n\u001b[0;32m    642\u001b[0m     \u001b[38;5;28;01mif\u001b[39;00m \u001b[38;5;129;01mnot\u001b[39;00m builder_config\u001b[38;5;241m.\u001b[39mversion:\n\u001b[0;32m    643\u001b[0m         \u001b[38;5;28;01mraise\u001b[39;00m \u001b[38;5;167;01mValueError\u001b[39;00m(\u001b[38;5;124mf\u001b[39m\u001b[38;5;124m\"\u001b[39m\u001b[38;5;124mBuilderConfig \u001b[39m\u001b[38;5;132;01m{\u001b[39;00mbuilder_config\u001b[38;5;241m.\u001b[39mname\u001b[38;5;132;01m}\u001b[39;00m\u001b[38;5;124m must have a version\u001b[39m\u001b[38;5;124m\"\u001b[39m)\n",
      "\u001b[1;31mValueError\u001b[0m: Cannot name a custom BuilderConfig the same as an available BuilderConfig. Change the name. Available BuilderConfigs: ['v1', 'v1_5', 'v1_5-sample', 'v1_6', 'v1_6-sample']"
     ]
    }
   ],
   "source": [
    "\n",
    "\n",
    "# Set the environment variable for the data directory\n",
    "os.environ[\"DATA_DIR\"] = \"\"\n",
    "\n",
    "# Load the Dolma dataset (smaller sample)\n",
    "dataset_name = \"allenai/dolma\"\n",
    "dolma_sample = load_dataset(dataset_name, version = \"v1_6-sample\")\n",
    "\n",
    "# Now you have loaded approximately 16GB of the Dolma dataset!\n",
    "# You can explore this smaller sample for your analysis.\n",
    "\n"
   ]
  },
  {
   "cell_type": "code",
   "execution_count": 14,
   "metadata": {},
   "outputs": [],
   "source": [
    "#%%\n",
    "name = '-'.join([str(x) for x in file_numbers])\n",
    "df.to_parquet(f'refinedweb_{name}.parquet')"
   ]
  },
  {
   "cell_type": "code",
   "execution_count": 15,
   "metadata": {},
   "outputs": [
    {
     "data": {
      "text/plain": [
       "'1997-2679-610-4882-5270'"
      ]
     },
     "execution_count": 15,
     "metadata": {},
     "output_type": "execute_result"
    }
   ],
   "source": [
    "name"
   ]
  },
  {
   "cell_type": "code",
   "execution_count": 16,
   "metadata": {},
   "outputs": [],
   "source": [
    "# To use saved file, specify the name here\n",
    "name = '1997-2679-610-4882-5270'\n",
    "# name = 'refinedweb_4453-1982-3699-5149-508-282-1127-5210-4203-2213-2152-1842-5375-2118-1363-3607-4652-3485-1715-1719-1214-1952'\n",
    "path = f'refinedweb_{name}.parquet'\n",
    "df = pd.read_parquet(path) # refinedweb_1997-2679-610-4882-5270.parquet"
   ]
  },
  {
   "cell_type": "code",
   "execution_count": 17,
   "metadata": {},
   "outputs": [
    {
     "data": {
      "text/html": [
       "<div>\n",
       "<style scoped>\n",
       "    .dataframe tbody tr th:only-of-type {\n",
       "        vertical-align: middle;\n",
       "    }\n",
       "\n",
       "    .dataframe tbody tr th {\n",
       "        vertical-align: top;\n",
       "    }\n",
       "\n",
       "    .dataframe thead th {\n",
       "        text-align: right;\n",
       "    }\n",
       "</style>\n",
       "<table border=\"1\" class=\"dataframe\">\n",
       "  <thead>\n",
       "    <tr style=\"text-align: right;\">\n",
       "      <th></th>\n",
       "      <th>content</th>\n",
       "      <th>url</th>\n",
       "      <th>timestamp</th>\n",
       "      <th>dump</th>\n",
       "      <th>segment</th>\n",
       "      <th>image_urls</th>\n",
       "    </tr>\n",
       "  </thead>\n",
       "  <tbody>\n",
       "    <tr>\n",
       "      <th>0</th>\n",
       "      <td>Biolustre Renew Daily Conditioning Sealant is ...</td>\n",
       "      <td>http://www.naturallycurly.com/search/brand/nam...</td>\n",
       "      <td>2016-12-02 22:34:18</td>\n",
       "      <td>CC-MAIN-2016-50</td>\n",
       "      <td>1480698540698.78</td>\n",
       "      <td>[]</td>\n",
       "    </tr>\n",
       "    <tr>\n",
       "      <th>1</th>\n",
       "      <td>Give a Gift Membership\\nWith this gift of natu...</td>\n",
       "      <td>http://www.nature.org/ourinitiatives/regions/n...</td>\n",
       "      <td>2016-12-02 22:20:47</td>\n",
       "      <td>CC-MAIN-2016-50</td>\n",
       "      <td>1480698540698.78</td>\n",
       "      <td>[[/cs/groups/webcontent/@web/documents/media/g...</td>\n",
       "    </tr>\n",
       "    <tr>\n",
       "      <th>2</th>\n",
       "      <td>As noted in the description, my book chronicle...</td>\n",
       "      <td>http://www.navigatinglifesroadways.com/?page_i...</td>\n",
       "      <td>2016-12-02 22:13:04</td>\n",
       "      <td>CC-MAIN-2016-50</td>\n",
       "      <td>1480698540698.78</td>\n",
       "      <td>[]</td>\n",
       "    </tr>\n",
       "    <tr>\n",
       "      <th>3</th>\n",
       "      <td>Bulls @ Pacers\\nthe bulls were a very competit...</td>\n",
       "      <td>http://www.nbadraft.net/forum/bulls-pacers</td>\n",
       "      <td>2016-12-02 22:49:35</td>\n",
       "      <td>CC-MAIN-2016-50</td>\n",
       "      <td>1480698540698.78</td>\n",
       "      <td>[]</td>\n",
       "    </tr>\n",
       "    <tr>\n",
       "      <th>4</th>\n",
       "      <td>LAKE FOREST, Calif. — After years of ministeri...</td>\n",
       "      <td>http://www.nbcnews.com/id/10268413</td>\n",
       "      <td>2016-12-02 22:32:49</td>\n",
       "      <td>CC-MAIN-2016-50</td>\n",
       "      <td>1480698540698.78</td>\n",
       "      <td>[[http://media2.s-nbcnews.com/j/msnbc/Componen...</td>\n",
       "    </tr>\n",
       "    <tr>\n",
       "      <th>...</th>\n",
       "      <td>...</td>\n",
       "      <td>...</td>\n",
       "      <td>...</td>\n",
       "      <td>...</td>\n",
       "      <td>...</td>\n",
       "      <td>...</td>\n",
       "    </tr>\n",
       "    <tr>\n",
       "      <th>874588</th>\n",
       "      <td>Joachim Low cast aside concerns about Germany'...</td>\n",
       "      <td>https://www.skysports.com/football/news/12023/...</td>\n",
       "      <td>2021-07-24 05:08:16</td>\n",
       "      <td>CC-MAIN-2021-31</td>\n",
       "      <td>1627046150129.50</td>\n",
       "      <td>[[https://e0.365dm.com/21/06/768x432/skysports...</td>\n",
       "    </tr>\n",
       "    <tr>\n",
       "      <th>874589</th>\n",
       "      <td>At 10:30pm on the 30 of August I boarded QF74 ...</td>\n",
       "      <td>https://www.sleepingwithmyeyesopen.com/2010/09...</td>\n",
       "      <td>2021-07-24 03:27:41</td>\n",
       "      <td>CC-MAIN-2021-31</td>\n",
       "      <td>1627046150129.50</td>\n",
       "      <td>[]</td>\n",
       "    </tr>\n",
       "    <tr>\n",
       "      <th>874590</th>\n",
       "      <td>展开查看详情\\n1. Today’s Papers • Chord: A Scalable ...</td>\n",
       "      <td>https://www.slidestalk.com/u3808/ChordTapestry16</td>\n",
       "      <td>2021-07-24 04:09:20</td>\n",
       "      <td>CC-MAIN-2021-31</td>\n",
       "      <td>1627046150129.50</td>\n",
       "      <td>[]</td>\n",
       "    </tr>\n",
       "    <tr>\n",
       "      <th>874591</th>\n",
       "      <td>A Year of Local Music: Wes Johnson of Archive ...</td>\n",
       "      <td>https://www.slugmag.com/music/interviews/music...</td>\n",
       "      <td>2021-07-24 03:31:10</td>\n",
       "      <td>CC-MAIN-2021-31</td>\n",
       "      <td>1627046150129.50</td>\n",
       "      <td>[]</td>\n",
       "    </tr>\n",
       "    <tr>\n",
       "      <th>874592</th>\n",
       "      <td>JavaScript seems to be disabled in your browse...</td>\n",
       "      <td>https://www.smallcab.net/seimitsu-5x6x-stock-h...</td>\n",
       "      <td>2021-07-24 05:01:17</td>\n",
       "      <td>CC-MAIN-2021-31</td>\n",
       "      <td>1627046150129.50</td>\n",
       "      <td>[]</td>\n",
       "    </tr>\n",
       "  </tbody>\n",
       "</table>\n",
       "<p>874593 rows × 6 columns</p>\n",
       "</div>"
      ],
      "text/plain": [
       "                                                  content  \\\n",
       "0       Biolustre Renew Daily Conditioning Sealant is ...   \n",
       "1       Give a Gift Membership\\nWith this gift of natu...   \n",
       "2       As noted in the description, my book chronicle...   \n",
       "3       Bulls @ Pacers\\nthe bulls were a very competit...   \n",
       "4       LAKE FOREST, Calif. — After years of ministeri...   \n",
       "...                                                   ...   \n",
       "874588  Joachim Low cast aside concerns about Germany'...   \n",
       "874589  At 10:30pm on the 30 of August I boarded QF74 ...   \n",
       "874590  展开查看详情\\n1. Today’s Papers • Chord: A Scalable ...   \n",
       "874591  A Year of Local Music: Wes Johnson of Archive ...   \n",
       "874592  JavaScript seems to be disabled in your browse...   \n",
       "\n",
       "                                                      url           timestamp  \\\n",
       "0       http://www.naturallycurly.com/search/brand/nam... 2016-12-02 22:34:18   \n",
       "1       http://www.nature.org/ourinitiatives/regions/n... 2016-12-02 22:20:47   \n",
       "2       http://www.navigatinglifesroadways.com/?page_i... 2016-12-02 22:13:04   \n",
       "3              http://www.nbadraft.net/forum/bulls-pacers 2016-12-02 22:49:35   \n",
       "4                      http://www.nbcnews.com/id/10268413 2016-12-02 22:32:49   \n",
       "...                                                   ...                 ...   \n",
       "874588  https://www.skysports.com/football/news/12023/... 2021-07-24 05:08:16   \n",
       "874589  https://www.sleepingwithmyeyesopen.com/2010/09... 2021-07-24 03:27:41   \n",
       "874590   https://www.slidestalk.com/u3808/ChordTapestry16 2021-07-24 04:09:20   \n",
       "874591  https://www.slugmag.com/music/interviews/music... 2021-07-24 03:31:10   \n",
       "874592  https://www.smallcab.net/seimitsu-5x6x-stock-h... 2021-07-24 05:01:17   \n",
       "\n",
       "                   dump           segment  \\\n",
       "0       CC-MAIN-2016-50  1480698540698.78   \n",
       "1       CC-MAIN-2016-50  1480698540698.78   \n",
       "2       CC-MAIN-2016-50  1480698540698.78   \n",
       "3       CC-MAIN-2016-50  1480698540698.78   \n",
       "4       CC-MAIN-2016-50  1480698540698.78   \n",
       "...                 ...               ...   \n",
       "874588  CC-MAIN-2021-31  1627046150129.50   \n",
       "874589  CC-MAIN-2021-31  1627046150129.50   \n",
       "874590  CC-MAIN-2021-31  1627046150129.50   \n",
       "874591  CC-MAIN-2021-31  1627046150129.50   \n",
       "874592  CC-MAIN-2021-31  1627046150129.50   \n",
       "\n",
       "                                               image_urls  \n",
       "0                                                      []  \n",
       "1       [[/cs/groups/webcontent/@web/documents/media/g...  \n",
       "2                                                      []  \n",
       "3                                                      []  \n",
       "4       [[http://media2.s-nbcnews.com/j/msnbc/Componen...  \n",
       "...                                                   ...  \n",
       "874588  [[https://e0.365dm.com/21/06/768x432/skysports...  \n",
       "874589                                                 []  \n",
       "874590                                                 []  \n",
       "874591                                                 []  \n",
       "874592                                                 []  \n",
       "\n",
       "[874593 rows x 6 columns]"
      ]
     },
     "execution_count": 17,
     "metadata": {},
     "output_type": "execute_result"
    }
   ],
   "source": [
    "df"
   ]
  },
  {
   "cell_type": "code",
   "execution_count": 19,
   "metadata": {},
   "outputs": [
    {
     "data": {
      "text/plain": [
       "(874593, 41.980592)"
      ]
     },
     "execution_count": 19,
     "metadata": {},
     "output_type": "execute_result"
    }
   ],
   "source": [
    "len(df), df.memory_usage(index=True).sum() * 1e-6"
   ]
  },
  {
   "cell_type": "code",
   "execution_count": 20,
   "metadata": {},
   "outputs": [],
   "source": [
    "import tldextract\n",
    "# === GET DOMAIN AND SUBDOMAIN ===\n",
    "domains = []\n",
    "subdomains = []\n",
    "full = []\n",
    "for url in df.url.values:\n",
    "    extract = tldextract.extract(url)\n",
    "    domains.append(extract.domain + '.' + extract.suffix)\n",
    "    subdomains.append(extract.subdomain)\n",
    "    full.append(extract.subdomain + '.' + extract.domain + '.' + extract.suffix)\n",
    "df[\"domain\"] = domains\n",
    "df[\"subdomain\"] = subdomains\n",
    "df[\"full\"] = full\n",
    "df['totaldocuments'] = 1"
   ]
  },
  {
   "cell_type": "code",
   "execution_count": 21,
   "metadata": {},
   "outputs": [],
   "source": [
    "#%%\n",
    "# === COUNT WORDS === \n",
    "df['totalwords'] = [len(x.split()) for x in df['content'].tolist()]"
   ]
  },
  {
   "cell_type": "code",
   "execution_count": 22,
   "metadata": {},
   "outputs": [
    {
     "data": {
      "text/html": [
       "<div>\n",
       "<style scoped>\n",
       "    .dataframe tbody tr th:only-of-type {\n",
       "        vertical-align: middle;\n",
       "    }\n",
       "\n",
       "    .dataframe tbody tr th {\n",
       "        vertical-align: top;\n",
       "    }\n",
       "\n",
       "    .dataframe thead th {\n",
       "        text-align: right;\n",
       "    }\n",
       "</style>\n",
       "<table border=\"1\" class=\"dataframe\">\n",
       "  <thead>\n",
       "    <tr style=\"text-align: right;\">\n",
       "      <th></th>\n",
       "      <th>timestamp</th>\n",
       "      <th>totaldocuments</th>\n",
       "      <th>totalwords</th>\n",
       "    </tr>\n",
       "  </thead>\n",
       "  <tbody>\n",
       "    <tr>\n",
       "      <th>count</th>\n",
       "      <td>874593</td>\n",
       "      <td>874593.0</td>\n",
       "      <td>874593.000000</td>\n",
       "    </tr>\n",
       "    <tr>\n",
       "      <th>mean</th>\n",
       "      <td>2018-02-15 18:05:20.751994624</td>\n",
       "      <td>1.0</td>\n",
       "      <td>422.783622</td>\n",
       "    </tr>\n",
       "    <tr>\n",
       "      <th>min</th>\n",
       "      <td>2014-03-07 08:07:10</td>\n",
       "      <td>1.0</td>\n",
       "      <td>0.000000</td>\n",
       "    </tr>\n",
       "    <tr>\n",
       "      <th>25%</th>\n",
       "      <td>2016-10-21 00:58:00</td>\n",
       "      <td>1.0</td>\n",
       "      <td>99.000000</td>\n",
       "    </tr>\n",
       "    <tr>\n",
       "      <th>50%</th>\n",
       "      <td>2018-01-16 10:04:55</td>\n",
       "      <td>1.0</td>\n",
       "      <td>209.000000</td>\n",
       "    </tr>\n",
       "    <tr>\n",
       "      <th>75%</th>\n",
       "      <td>2019-11-12 08:12:29</td>\n",
       "      <td>1.0</td>\n",
       "      <td>459.000000</td>\n",
       "    </tr>\n",
       "    <tr>\n",
       "      <th>max</th>\n",
       "      <td>2022-05-16 10:29:11</td>\n",
       "      <td>1.0</td>\n",
       "      <td>96563.000000</td>\n",
       "    </tr>\n",
       "    <tr>\n",
       "      <th>std</th>\n",
       "      <td>NaN</td>\n",
       "      <td>0.0</td>\n",
       "      <td>1041.974827</td>\n",
       "    </tr>\n",
       "  </tbody>\n",
       "</table>\n",
       "</div>"
      ],
      "text/plain": [
       "                           timestamp  totaldocuments     totalwords\n",
       "count                         874593        874593.0  874593.000000\n",
       "mean   2018-02-15 18:05:20.751994624             1.0     422.783622\n",
       "min              2014-03-07 08:07:10             1.0       0.000000\n",
       "25%              2016-10-21 00:58:00             1.0      99.000000\n",
       "50%              2018-01-16 10:04:55             1.0     209.000000\n",
       "75%              2019-11-12 08:12:29             1.0     459.000000\n",
       "max              2022-05-16 10:29:11             1.0   96563.000000\n",
       "std                              NaN             0.0    1041.974827"
      ]
     },
     "execution_count": 22,
     "metadata": {},
     "output_type": "execute_result"
    }
   ],
   "source": [
    "df.describe()"
   ]
  }
 ],
 "metadata": {
  "kernelspec": {
   "display_name": "ai",
   "language": "python",
   "name": "python3"
  },
  "language_info": {
   "codemirror_mode": {
    "name": "ipython",
    "version": 3
   },
   "file_extension": ".py",
   "mimetype": "text/x-python",
   "name": "python",
   "nbconvert_exporter": "python",
   "pygments_lexer": "ipython3",
   "version": "3.9.18"
  }
 },
 "nbformat": 4,
 "nbformat_minor": 2
}
