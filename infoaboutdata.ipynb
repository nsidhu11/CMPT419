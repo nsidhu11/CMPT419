{
 "cells": [
  {
   "cell_type": "code",
   "execution_count": 1,
   "metadata": {},
   "outputs": [
    {
     "data": {
      "application/vnd.jupyter.widget-view+json": {
       "model_id": "e1a89d5ca3db47509eb2da01e9085649",
       "version_major": 2,
       "version_minor": 0
      },
      "text/plain": [
       "Resolving data files:   0%|          | 0/5534 [00:00<?, ?it/s]"
      ]
     },
     "metadata": {},
     "output_type": "display_data"
    }
   ],
   "source": [
    "from datasets import load_dataset_builder\n",
    "\n",
    "dataset_name = \"tiiuae/falcon-refinedweb\"\n",
    "builder = load_dataset_builder(dataset_name)\n",
    "info = builder.info\n",
    "# This gives you the dataset structure, which can include the number of examples per split.\n",
    "# Note: This method doesn't directly give you the number of files, but it provides insights into the dataset's structure.\n"
   ]
  },
  {
   "cell_type": "code",
   "execution_count": 2,
   "metadata": {},
   "outputs": [
    {
     "data": {
      "text/plain": [
       "DatasetInfo(description='', citation='', homepage='', license='', features={'content': Value(dtype='string', id=None), 'url': Value(dtype='string', id=None), 'timestamp': Value(dtype='timestamp[s]', id=None), 'dump': Value(dtype='string', id=None), 'segment': Value(dtype='string', id=None), 'image_urls': Sequence(feature=Sequence(feature=Value(dtype='string', id=None), length=-1, id=None), length=-1, id=None)}, post_processed=None, supervised_keys=None, task_templates=None, builder_name='parquet', dataset_name='falcon-refinedweb', config_name='default', version=0.0.0, splits={'train': SplitInfo(name='train', num_bytes=2766953721769, num_examples=968000015, shard_lengths=None, dataset_name=None)}, download_checksums=None, download_size=466888198663, post_processing_size=None, dataset_size=2766953721769, size_in_bytes=None)"
      ]
     },
     "execution_count": 2,
     "metadata": {},
     "output_type": "execute_result"
    }
   ],
   "source": [
    "info"
   ]
  },
  {
   "cell_type": "code",
   "execution_count": null,
   "metadata": {},
   "outputs": [],
   "source": [
    "from datasets import load_dataset_builder\n",
    "\n",
    "dataset_name = \"Skylion007/openwebtext\"\n",
    "builder = load_dataset_builder(dataset_name)\n",
    "info = builder.info\n",
    "# This gives you the dataset structure, which can include the number of examples per split.\n",
    "# Note: This method doesn't directly give you the number of files, but it provides insights into the dataset's structure.\n"
   ]
  }
 ],
 "metadata": {
  "kernelspec": {
   "display_name": "ai",
   "language": "python",
   "name": "python3"
  },
  "language_info": {
   "codemirror_mode": {
    "name": "ipython",
    "version": 3
   },
   "file_extension": ".py",
   "mimetype": "text/x-python",
   "name": "python",
   "nbconvert_exporter": "python",
   "pygments_lexer": "ipython3",
   "version": "3.9.18"
  }
 },
 "nbformat": 4,
 "nbformat_minor": 2
}
